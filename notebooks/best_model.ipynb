{
 "cells": [
  {
   "cell_type": "code",
   "execution_count": 3,
   "id": "ef66343b",
   "metadata": {},
   "outputs": [],
   "source": [
    "import pandas as pd\n",
    "import numpy as np\n",
    "import matplotlib.pyplot as plt\n",
    "import seaborn as sns\n",
    "from imblearn.over_sampling import SMOTE,ADASYN\n",
    "from sklearn.model_selection import train_test_split\n",
    "from sklearn.metrics import classification_report, confusion_matrix, ConfusionMatrixDisplay, roc_curve,roc_auc_score, auc\n",
    "from sklearn.metrics import accuracy_score , precision_score , recall_score ,  make_scorer,f1_score , precision_recall_curve , roc_auc_score \n",
    "from imblearn.combine import SMOTETomek\n",
    "from sklearn.model_selection import GridSearchCV"
   ]
  },
  {
   "cell_type": "code",
   "execution_count": 4,
   "id": "af40a288",
   "metadata": {},
   "outputs": [],
   "source": [
    "from sklearn.neighbors import KNeighborsClassifier\n",
    "from sklearn.svm import SVC\n",
    "from sklearn.naive_bayes import GaussianNB\n",
    "from sklearn.linear_model import LogisticRegression, RidgeClassifier\n",
    "from sklearn.tree import DecisionTreeClassifier, ExtraTreeClassifier\n",
    "from sklearn.ensemble import RandomForestClassifier, GradientBoostingClassifier, AdaBoostClassifier\n",
    "from xgboost import XGBClassifier\n",
    "from lightgbm import LGBMClassifier\n",
    "from sklearn.preprocessing import StandardScaler, MinMaxScaler,RobustScaler"
   ]
  },
  {
   "cell_type": "code",
   "execution_count": 5,
   "id": "e934b46e",
   "metadata": {},
   "outputs": [],
   "source": [
    "import warnings\n",
    "warnings.filterwarnings(\"ignore\")"
   ]
  },
  {
   "cell_type": "code",
   "execution_count": 6,
   "id": "10378c7d",
   "metadata": {},
   "outputs": [],
   "source": [
    "data = pd.read_csv('creditcard.csv')"
   ]
  },
  {
   "cell_type": "code",
   "execution_count": 7,
   "id": "6cc1574d",
   "metadata": {},
   "outputs": [],
   "source": [
    "data.drop_duplicates(inplace=True)"
   ]
  },
  {
   "cell_type": "code",
   "execution_count": 8,
   "id": "e2d84b3b",
   "metadata": {},
   "outputs": [],
   "source": [
    "X = data.drop(columns=['Class'])\n",
    "y = data[['Class']]"
   ]
  },
  {
   "cell_type": "code",
   "execution_count": 9,
   "id": "b627a7f4",
   "metadata": {},
   "outputs": [],
   "source": [
    "X_train,X_test,y_train,y_test = train_test_split(X,y,train_size=.80,stratify=y,random_state=42)"
   ]
  },
  {
   "cell_type": "code",
   "execution_count": 10,
   "id": "59ebc0c0",
   "metadata": {},
   "outputs": [],
   "source": [
    "smote_tomek = SMOTETomek(sampling_strategy=0.1,random_state=42)\n",
    "X_sm_tomek, y_sm_tomek = smote_tomek.fit_resample(X_train, y_train)"
   ]
  },
  {
   "cell_type": "code",
   "execution_count": 11,
   "id": "f3640307",
   "metadata": {},
   "outputs": [
    {
     "data": {
      "text/plain": [
       "(Class\n",
       " 0        225589\n",
       " 1         21647\n",
       " Name: count, dtype: int64,\n",
       " Class\n",
       " 0        226602\n",
       " 1           378\n",
       " Name: count, dtype: int64)"
      ]
     },
     "execution_count": 11,
     "metadata": {},
     "output_type": "execute_result"
    }
   ],
   "source": [
    "y_sm_tomek.value_counts(),y_train.value_counts()"
   ]
  },
  {
   "cell_type": "code",
   "execution_count": 12,
   "id": "7e457be1",
   "metadata": {},
   "outputs": [
    {
     "name": "stdout",
     "output_type": "stream",
     "text": [
      "XGB results : \n",
      "\n",
      "accuracy_score is : 0.9994537059880872 \n",
      "precision_score is : 0.8636363636363636\n",
      "recall_score is : 0.8\n",
      "f1_score is : 0.8306010928961749\n",
      "best threshold for max f1_score : \n",
      "\n",
      "best Threshold: 0.9573521\n",
      "Precision (custom threshold): 0.9620253164556962\n",
      "Recall (custom threshold): 0.8\n",
      "F1-score (custom threshold): 0.8735632183908046\n",
      "best threshold for max recall : \n",
      "\n",
      "best Threshold: 0.7340847\n",
      "Precision (custom threshold): 0.9047619047619048\n",
      "Recall (custom threshold): 0.8\n",
      "F1-score (custom threshold): 0.8491620111731844\n"
     ]
    }
   ],
   "source": [
    "xgb_model = XGBClassifier(scale_pos_weight=14, random_state=42)\n",
    "xgb_model.fit(X_sm_tomek, y_sm_tomek)\n",
    "y_pred = xgb_model.predict(X_test)\n",
    "y_proba = xgb_model.predict_proba(X_test)\n",
    "print(\"XGB results : \\n\")\n",
    "print(f\"accuracy_score is : {accuracy_score(y_test, y_pred)} \")\n",
    "print(f\"precision_score is : {precision_score(y_test, y_pred)}\")\n",
    "print(f\"recall_score is : {recall_score(y_test, y_pred)}\")\n",
    "print(f\"f1_score is : {f1_score(y_test, y_pred)}\")\n",
    "\n",
    "precisions, recalls, thresholds = precision_recall_curve(y_test, y_proba[:,1])\n",
    "\n",
    "print(\"best threshold for max f1_score : \\n\")\n",
    "\n",
    "f1_scores = 2 * (precisions * recalls) / (precisions + recalls)\n",
    "\n",
    "best_threshold = thresholds[f1_scores.argmax()]\n",
    "print(\"best Threshold:\", best_threshold)\n",
    "y_pred_custom = (y_proba[:,1] >= best_threshold).astype(int)\n",
    "print(f\"Precision (custom threshold): {precision_score(y_test, y_pred_custom)}\")\n",
    "print(f\"Recall (custom threshold): {recall_score(y_test, y_pred_custom)}\")\n",
    "print(f\"F1-score (custom threshold): {f1_score(y_test, y_pred_custom)}\")\n",
    "\n",
    "print(\"best threshold for max recall : \\n\")\n",
    "min_precision = .9\n",
    "valid_idx = np.where(precisions[:-1] >= min_precision)[0]\n",
    "best_threshold = thresholds[valid_idx][recalls[valid_idx].argmax()]\n",
    "\n",
    "print(\"best Threshold:\", best_threshold)\n",
    "y_pred_custom = (y_proba[:,1] >= best_threshold).astype(int)\n",
    "print(f\"Precision (custom threshold): {precision_score(y_test, y_pred_custom)}\")\n",
    "print(f\"Recall (custom threshold): {recall_score(y_test, y_pred_custom)}\")\n",
    "print(f\"F1-score (custom threshold): {f1_score(y_test, y_pred_custom)}\")"
   ]
  },
  {
   "cell_type": "code",
   "execution_count": 13,
   "id": "b827109e",
   "metadata": {},
   "outputs": [
    {
     "data": {
      "text/plain": [
       "'\\nXGB results : \\n\\naccuracy_score is : 0.9994537059880872 \\nprecision_score is : 0.8636363636363636\\nrecall_score is : 0.8\\nf1_score is : 0.8306010928961749\\nbest threshold for max f1_score : \\n\\nbest Threshold: 0.9573521\\nPrecision (custom threshold): 0.9620253164556962\\nRecall (custom threshold): 0.8\\nF1-score (custom threshold): 0.8735632183908046\\nbest threshold for max recall : \\n\\nbest Threshold: 0.7340847\\nPrecision (custom threshold): 0.9047619047619048\\nRecall (custom threshold): 0.8\\nF1-score (custom threshold): 0.8491620111731844\\n'"
      ]
     },
     "execution_count": 13,
     "metadata": {},
     "output_type": "execute_result"
    }
   ],
   "source": [
    "'''\n",
    "XGB results : \n",
    "\n",
    "accuracy_score is : 0.9994537059880872 \n",
    "precision_score is : 0.8636363636363636\n",
    "recall_score is : 0.8\n",
    "f1_score is : 0.8306010928961749\n",
    "best threshold for max f1_score : \n",
    "\n",
    "best Threshold: 0.9573521\n",
    "Precision (custom threshold): 0.9620253164556962\n",
    "Recall (custom threshold): 0.8\n",
    "F1-score (custom threshold): 0.8735632183908046\n",
    "best threshold for max recall : \n",
    "\n",
    "best Threshold: 0.7340847\n",
    "Precision (custom threshold): 0.9047619047619048\n",
    "Recall (custom threshold): 0.8\n",
    "F1-score (custom threshold): 0.8491620111731844\n",
    "'''"
   ]
  },
  {
   "cell_type": "code",
   "execution_count": 14,
   "id": "0f1abc6f",
   "metadata": {},
   "outputs": [
    {
     "name": "stdout",
     "output_type": "stream",
     "text": [
      "ROC AUC SCORE :  0.9652502069457594\n"
     ]
    },
    {
     "data": {
      "image/png": "[encoded data removed]",
      "text/plain": [
       "<Figure size 1200x500 with 1 Axes>"
      ]
     },
     "metadata": {},
     "output_type": "display_data"
    }
   ],
   "source": [
    "# ---------------- ROC Curve ----------------\n",
    "fpr, tpr, thresholds = roc_curve(y_test, y_proba[:,1])\n",
    "roc_auc = auc(fpr, tpr)\n",
    "\n",
    "plt.figure(figsize=(12,5))\n",
    "\n",
    "plt.subplot(1,2,1)\n",
    "plt.plot(fpr, tpr, color='darkorange', lw=2,\n",
    "         label=f'ROC curve (AUC = {roc_auc:.2f})')\n",
    "plt.plot([0,1], [0,1], color='navy', lw=2, linestyle='--')\n",
    "plt.xlim([0.0, 1.0])\n",
    "plt.ylim([0.0, 1.05])\n",
    "plt.xlabel('False Positive Rate')\n",
    "plt.ylabel('True Positive Rate (Recall)')\n",
    "plt.title('ROC Curve')\n",
    "plt.legend(loc=\"lower right\")\n",
    "print(\"ROC AUC SCORE : \",roc_auc)"
   ]
  },
  {
   "cell_type": "code",
   "execution_count": 15,
   "id": "c2d8d467",
   "metadata": {},
   "outputs": [
    {
     "data": {
      "image/png": "[encoded data removed]",
      "text/plain": [
       "<Figure size 600x600 with 1 Axes>"
      ]
     },
     "metadata": {},
     "output_type": "display_data"
    },
    {
     "name": "stdout",
     "output_type": "stream",
     "text": [
      "[[56639    12]\n",
      " [   19    76]]\n"
     ]
    }
   ],
   "source": [
    "cm = confusion_matrix(y_test, y_pred)\n",
    "\n",
    "fig, ax = plt.subplots(figsize=(6,6))\n",
    "ax.matshow(cm, cmap=plt.cm.Blues, alpha=0.3)\n",
    "\n",
    "for i in range(cm.shape[0]):\n",
    "    for j in range(cm.shape[1]):\n",
    "        ax.text(x=j, y=i, s=cm[i, j], va='center', ha='center', fontsize=14, fontweight='bold')\n",
    "\n",
    "plt.xlabel('Predicted', fontsize=14)\n",
    "plt.ylabel('Actually', fontsize=14)\n",
    "\n",
    "ax.set_xticks([0,1])\n",
    "ax.set_yticks([0,1])\n",
    "\n",
    "ax.set_xticklabels(['Negative (0)', 'Positive (1)'])\n",
    "ax.set_yticklabels(['Negative (0)', 'Positive (1)'])\n",
    "\n",
    "plt.title(\"Confusion Matrix\", fontsize=16, pad=20)\n",
    "\n",
    "plt.show()\n",
    "print(cm)"
   ]
  }
 ],
 "metadata": {
  "kernelspec": {
   "display_name": "Python 3",
   "language": "python",
   "name": "python3"
  },
  "language_info": {
   "codemirror_mode": {
    "name": "ipython",
    "version": 3
   },
   "file_extension": ".py",
   "mimetype": "text/x-python",
   "name": "python",
   "nbconvert_exporter": "python",
   "pygments_lexer": "ipython3",
   "version": "3.12.1"
  }
 },
 "nbformat": 4,
 "nbformat_minor": 5
}
