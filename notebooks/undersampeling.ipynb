{
 "cells": [
  {
   "cell_type": "code",
   "execution_count": 10,
   "id": "ed60b342",
   "metadata": {},
   "outputs": [],
   "source": [
    "import pandas as pd\n",
    "import numpy as np\n",
    "import matplotlib.pyplot as plt\n",
    "from sklearn.model_selection import train_test_split\n",
    "from sklearn.metrics import classification_report, confusion_matrix, ConfusionMatrixDisplay, roc_curve,roc_auc_score, auc\n",
    "from imblearn.over_sampling import SMOTE\n",
    "from sklearn.metrics import accuracy_score , precision_score , recall_score ,  f1_score , precision_recall_curve , roc_auc_score \n",
    "from imblearn.under_sampling import RandomUnderSampler\n",
    "from sklearn.ensemble import RandomForestClassifier"
   ]
  },
  {
   "cell_type": "code",
   "execution_count": 11,
   "id": "939105e4",
   "metadata": {},
   "outputs": [],
   "source": [
    "import warnings\n",
    "warnings.filterwarnings(\"ignore\")"
   ]
  },
  {
   "cell_type": "code",
   "execution_count": 12,
   "id": "175744c1",
   "metadata": {},
   "outputs": [],
   "source": [
    "data = pd.read_csv('creditcard.csv')"
   ]
  },
  {
   "cell_type": "code",
   "execution_count": 13,
   "id": "024a905b",
   "metadata": {},
   "outputs": [
    {
     "data": {
      "image/png": "[encoded data removed]",
      "text/plain": [
       "<Figure size 600x400 with 1 Axes>"
      ]
     },
     "metadata": {},
     "output_type": "display_data"
    }
   ],
   "source": [
    "counts = data['Class'].value_counts()\n",
    "\n",
    "plt.figure(figsize=(6,4))\n",
    "counts.plot(kind='bar')\n",
    "plt.title(\"Class Distribution\")\n",
    "plt.xlabel(\"Class\")\n",
    "plt.ylabel(\"Count\")\n",
    "plt.xticks(rotation=0)\n",
    "plt.show()"
   ]
  },
  {
   "cell_type": "code",
   "execution_count": 14,
   "id": "3d3f9173",
   "metadata": {},
   "outputs": [
    {
     "data": {
      "text/plain": [
       "np.int64(1081)"
      ]
     },
     "execution_count": 14,
     "metadata": {},
     "output_type": "execute_result"
    }
   ],
   "source": [
    "data.duplicated().sum()"
   ]
  },
  {
   "cell_type": "code",
   "execution_count": 15,
   "id": "082e9fd6",
   "metadata": {},
   "outputs": [],
   "source": [
    "data.drop_duplicates(inplace=True)"
   ]
  },
  {
   "cell_type": "code",
   "execution_count": 16,
   "id": "57c109cb",
   "metadata": {},
   "outputs": [
    {
     "data": {
      "text/plain": [
       "np.int64(0)"
      ]
     },
     "execution_count": 16,
     "metadata": {},
     "output_type": "execute_result"
    }
   ],
   "source": [
    "data.duplicated().sum()"
   ]
  },
  {
   "cell_type": "code",
   "execution_count": 17,
   "id": "0b598289",
   "metadata": {},
   "outputs": [],
   "source": [
    "X = data.drop(columns=['Class'])\n",
    "y = data[['Class']]"
   ]
  },
  {
   "cell_type": "code",
   "execution_count": 18,
   "id": "1ccc2523",
   "metadata": {},
   "outputs": [],
   "source": [
    "X_train , X_test , y_train , y_test = train_test_split(X,y,train_size=0.8,stratify=y,random_state=42)"
   ]
  },
  {
   "cell_type": "markdown",
   "id": "a5033369",
   "metadata": {},
   "source": [
    "## Normal DATA"
   ]
  },
  {
   "cell_type": "code",
   "execution_count": 10,
   "id": "df12a5ff",
   "metadata": {},
   "outputs": [],
   "source": [
    "from xgboost import XGBClassifier"
   ]
  },
  {
   "cell_type": "code",
   "execution_count": 11,
   "id": "3d3b49ca",
   "metadata": {},
   "outputs": [
    {
     "name": "stdout",
     "output_type": "stream",
     "text": [
      "XGB results : \n",
      "\n",
      "accuracy_score is : 0.9994889507630493 \n",
      "precision_score is : 0.9342105263157895\n",
      "recall_score is : 0.7473684210526316\n",
      "f1_score is : 0.8304093567251462\n",
      "best threshold for max f1_score : \n",
      "\n",
      "best Threshold: 0.8428622\n",
      "Precision (custom threshold): 0.9726027397260274\n",
      "Recall (custom threshold): 0.7473684210526316\n",
      "F1-score (custom threshold): 0.8452380952380952\n",
      "best threshold for max recall : \n",
      "\n",
      "best Threshold: 0.11146474\n",
      "Precision (custom threshold): 0.9012345679012346\n",
      "Recall (custom threshold): 0.7684210526315789\n",
      "F1-score (custom threshold): 0.8295454545454546\n"
     ]
    }
   ],
   "source": [
    "xgb_model = XGBClassifier(scale_pos_weight=14, random_state=42)\n",
    "xgb_model.fit(X_train, y_train)\n",
    "y_pred = xgb_model.predict(X_test)\n",
    "y_proba = xgb_model.predict_proba(X_test)\n",
    "print(\"XGB results : \\n\")\n",
    "print(f\"accuracy_score is : {accuracy_score(y_test, y_pred)} \")\n",
    "print(f\"precision_score is : {precision_score(y_test, y_pred)}\")\n",
    "print(f\"recall_score is : {recall_score(y_test, y_pred)}\")\n",
    "print(f\"f1_score is : {f1_score(y_test, y_pred)}\")\n",
    "\n",
    "precisions, recalls, thresholds = precision_recall_curve(y_test, y_proba[:,1])\n",
    "\n",
    "print(\"best threshold for max f1_score : \\n\")\n",
    "\n",
    "f1_scores = 2 * (precisions * recalls) / (precisions + recalls)\n",
    "\n",
    "best_threshold = thresholds[f1_scores.argmax()]\n",
    "print(\"best Threshold:\", best_threshold)\n",
    "y_pred_custom = (y_proba[:,1] >= best_threshold).astype(int)\n",
    "print(f\"Precision (custom threshold): {precision_score(y_test, y_pred_custom)}\")\n",
    "print(f\"Recall (custom threshold): {recall_score(y_test, y_pred_custom)}\")\n",
    "print(f\"F1-score (custom threshold): {f1_score(y_test, y_pred_custom)}\")\n",
    "\n",
    "print(\"best threshold for max recall : \\n\")\n",
    "min_precision = .9\n",
    "valid_idx = np.where(precisions[:-1] >= min_precision)[0]\n",
    "best_threshold = thresholds[valid_idx][recalls[valid_idx].argmax()]\n",
    "\n",
    "print(\"best Threshold:\", best_threshold)\n",
    "y_pred_custom = (y_proba[:,1] >= best_threshold).astype(int)\n",
    "print(f\"Precision (custom threshold): {precision_score(y_test, y_pred_custom)}\")\n",
    "print(f\"Recall (custom threshold): {recall_score(y_test, y_pred_custom)}\")\n",
    "print(f\"F1-score (custom threshold): {f1_score(y_test, y_pred_custom)}\")"
   ]
  },
  {
   "cell_type": "code",
   "execution_count": 12,
   "id": "c348a907",
   "metadata": {},
   "outputs": [
    {
     "name": "stdout",
     "output_type": "stream",
     "text": [
      "accuracy_score is : 0.9995065731505305 \n",
      "precision_score is : 0.971830985915493\n",
      "recall_score is : 0.7263157894736842\n",
      "f1_score is : 0.8313253012048193\n",
      "The ROC score is : 0.928361556306434\n",
      "******************************\n",
      "best threshold for max f1_score : \n",
      "\n",
      "best Threshold: 0.49\n",
      "Precision (custom threshold): 0.9726027397260274\n",
      "Recall (custom threshold): 0.7473684210526316\n",
      "F1-score (custom threshold): 0.8452380952380952\n",
      "best threshold for max recall : \n",
      "\n",
      "best Threshold: 0.27\n",
      "Precision (custom threshold): 0.9012345679012346\n",
      "Recall (custom threshold): 0.7684210526315789\n",
      "F1-score (custom threshold): 0.8295454545454546\n"
     ]
    }
   ],
   "source": [
    "random_forest = RandomForestClassifier(n_estimators = 200 , random_state = 42 , n_jobs = -1)\n",
    "random_forest.fit(X_train , y_train)\n",
    "y_pred = random_forest.predict(X_test)\n",
    "y_proba = random_forest.predict_proba(X_test)\n",
    "print(f\"accuracy_score is : {accuracy_score(y_test, y_pred)} \")\n",
    "print(f\"precision_score is : {precision_score(y_test, y_pred)}\")\n",
    "print(f\"recall_score is : {recall_score(y_test, y_pred)}\")\n",
    "print(f\"f1_score is : {f1_score(y_test, y_pred)}\")\n",
    "print(f\"The ROC score is : {roc_auc_score(y_test , y_proba[:,1])}\")\n",
    "\n",
    "print(\"*\" * 30)\n",
    "\n",
    "precisions, recalls, thresholds = precision_recall_curve(y_test, y_proba[:,1])\n",
    "\n",
    "print(\"best threshold for max f1_score : \\n\")\n",
    "\n",
    "\n",
    "f1_scores = 2 * (precisions * recalls) / (precisions + recalls)\n",
    "\n",
    "\n",
    "best_threshold = thresholds[f1_scores.argmax()]\n",
    "print(\"best Threshold:\", best_threshold)\n",
    "y_pred_custom = (y_proba[:,1] >= best_threshold).astype(int)\n",
    "print(f\"Precision (custom threshold): {precision_score(y_test, y_pred_custom)}\")\n",
    "print(f\"Recall (custom threshold): {recall_score(y_test, y_pred_custom)}\")\n",
    "print(f\"F1-score (custom threshold): {f1_score(y_test, y_pred_custom)}\")\n",
    "\n",
    "print(\"best threshold for max recall : \\n\")\n",
    "min_precision = .9\n",
    "valid_idx = np.where(precisions[:-1] >= min_precision)[0]\n",
    "best_threshold = thresholds[valid_idx][recalls[valid_idx].argmax()]\n",
    "\n",
    "print(\"best Threshold:\", best_threshold)\n",
    "y_pred_custom = (y_proba[:,1] >= best_threshold).astype(int)\n",
    "print(f\"Precision (custom threshold): {precision_score(y_test, y_pred_custom)}\")\n",
    "print(f\"Recall (custom threshold): {recall_score(y_test, y_pred_custom)}\")\n",
    "print(f\"F1-score (custom threshold): {f1_score(y_test, y_pred_custom)}\")\n",
    "\n"
   ]
  },
  {
   "cell_type": "markdown",
   "id": "0765899b",
   "metadata": {},
   "source": [
    "## Random UnderSampeling"
   ]
  },
  {
   "cell_type": "code",
   "execution_count": 13,
   "id": "dde13223",
   "metadata": {},
   "outputs": [],
   "source": [
    "undersample = RandomUnderSampler(random_state=42)\n",
    "X_train_res,y_train_res = undersample.fit_resample(X_train,y_train)"
   ]
  },
  {
   "cell_type": "code",
   "execution_count": 14,
   "id": "444848de",
   "metadata": {},
   "outputs": [
    {
     "data": {
      "text/plain": [
       "(Class\n",
       " 0    226602\n",
       " 1       378\n",
       " Name: count, dtype: int64,\n",
       " Class\n",
       " 0    378\n",
       " 1    378\n",
       " Name: count, dtype: int64)"
      ]
     },
     "execution_count": 14,
     "metadata": {},
     "output_type": "execute_result"
    }
   ],
   "source": [
    "y_train['Class'].value_counts(),y_train_res['Class'].value_counts()"
   ]
  },
  {
   "cell_type": "code",
   "execution_count": 15,
   "id": "a1a64a4d",
   "metadata": {},
   "outputs": [
    {
     "name": "stdout",
     "output_type": "stream",
     "text": [
      "XGB results : \n",
      "\n",
      "accuracy_score is : 0.9476262644063017 \n",
      "precision_score is : 0.027275714755175814\n",
      "recall_score is : 0.8736842105263158\n",
      "f1_score is : 0.05289993626513703\n",
      "best threshold for max f1_score : \n",
      "\n",
      "best Threshold: 0.99986506\n",
      "Precision (custom threshold): 0.8202247191011236\n",
      "Recall (custom threshold): 0.7684210526315789\n",
      "F1-score (custom threshold): 0.7934782608695652\n",
      "best threshold for max recall : \n",
      "\n",
      "best Threshold: 0.99999094\n",
      "Precision (custom threshold): 0.9230769230769231\n",
      "Recall (custom threshold): 0.12631578947368421\n",
      "F1-score (custom threshold): 0.2222222222222222\n"
     ]
    }
   ],
   "source": [
    "xgb_model = XGBClassifier(scale_pos_weight=14, random_state=42)\n",
    "xgb_model.fit(X_train_res, y_train_res)\n",
    "y_pred = xgb_model.predict(X_test)\n",
    "y_proba = xgb_model.predict_proba(X_test)\n",
    "print(\"XGB results : \\n\")\n",
    "print(f\"accuracy_score is : {accuracy_score(y_test, y_pred)} \")\n",
    "print(f\"precision_score is : {precision_score(y_test, y_pred)}\")\n",
    "print(f\"recall_score is : {recall_score(y_test, y_pred)}\")\n",
    "print(f\"f1_score is : {f1_score(y_test, y_pred)}\")\n",
    "\n",
    "precisions, recalls, thresholds = precision_recall_curve(y_test, y_proba[:,1])\n",
    "\n",
    "print(\"best threshold for max f1_score : \\n\")\n",
    "\n",
    "f1_scores = 2 * (precisions * recalls) / (precisions + recalls)\n",
    "\n",
    "best_threshold = thresholds[f1_scores.argmax()]\n",
    "print(\"best Threshold:\", best_threshold)\n",
    "y_pred_custom = (y_proba[:,1] >= best_threshold).astype(int)\n",
    "print(f\"Precision (custom threshold): {precision_score(y_test, y_pred_custom)}\")\n",
    "print(f\"Recall (custom threshold): {recall_score(y_test, y_pred_custom)}\")\n",
    "print(f\"F1-score (custom threshold): {f1_score(y_test, y_pred_custom)}\")\n",
    "\n",
    "print(\"best threshold for max recall : \\n\")\n",
    "min_precision = .9\n",
    "valid_idx = np.where(precisions[:-1] >= min_precision)[0]\n",
    "best_threshold = thresholds[valid_idx][recalls[valid_idx].argmax()]\n",
    "\n",
    "print(\"best Threshold:\", best_threshold)\n",
    "y_pred_custom = (y_proba[:,1] >= best_threshold).astype(int)\n",
    "print(f\"Precision (custom threshold): {precision_score(y_test, y_pred_custom)}\")\n",
    "print(f\"Recall (custom threshold): {recall_score(y_test, y_pred_custom)}\")\n",
    "print(f\"F1-score (custom threshold): {f1_score(y_test, y_pred_custom)}\")"
   ]
  },
  {
   "cell_type": "code",
   "execution_count": 16,
   "id": "43b59172",
   "metadata": {},
   "outputs": [
    {
     "name": "stdout",
     "output_type": "stream",
     "text": [
      "accuracy_score is : 0.9995065731505305 \n",
      "precision_score is : 0.971830985915493\n",
      "recall_score is : 0.7263157894736842\n",
      "f1_score is : 0.8313253012048193\n",
      "The ROC score is : 0.928361556306434\n",
      "******************************\n",
      "best threshold for max f1_score : \n",
      "\n",
      "best Threshold: 0.49\n",
      "Precision (custom threshold): 0.9726027397260274\n",
      "Recall (custom threshold): 0.7473684210526316\n",
      "F1-score (custom threshold): 0.8452380952380952\n",
      "best threshold for max recall : \n",
      "\n",
      "best Threshold: 0.27\n",
      "Precision (custom threshold): 0.9012345679012346\n",
      "Recall (custom threshold): 0.7684210526315789\n",
      "F1-score (custom threshold): 0.8295454545454546\n"
     ]
    }
   ],
   "source": [
    "random_forest = RandomForestClassifier(n_estimators = 200 , random_state = 42 , n_jobs = -1)\n",
    "random_forest.fit(X_train , y_train)\n",
    "y_pred = random_forest.predict(X_test)\n",
    "y_proba = random_forest.predict_proba(X_test)\n",
    "print(f\"accuracy_score is : {accuracy_score(y_test, y_pred)} \")\n",
    "print(f\"precision_score is : {precision_score(y_test, y_pred)}\")\n",
    "print(f\"recall_score is : {recall_score(y_test, y_pred)}\")\n",
    "print(f\"f1_score is : {f1_score(y_test, y_pred)}\")\n",
    "print(f\"The ROC score is : {roc_auc_score(y_test , y_proba[:,1])}\")\n",
    "\n",
    "print(\"*\" * 30)\n",
    "\n",
    "precisions, recalls, thresholds = precision_recall_curve(y_test, y_proba[:,1])\n",
    "\n",
    "print(\"best threshold for max f1_score : \\n\")\n",
    "\n",
    "\n",
    "f1_scores = 2 * (precisions * recalls) / (precisions + recalls)\n",
    "\n",
    "\n",
    "best_threshold = thresholds[f1_scores.argmax()]\n",
    "print(\"best Threshold:\", best_threshold)\n",
    "y_pred_custom = (y_proba[:,1] >= best_threshold).astype(int)\n",
    "print(f\"Precision (custom threshold): {precision_score(y_test, y_pred_custom)}\")\n",
    "print(f\"Recall (custom threshold): {recall_score(y_test, y_pred_custom)}\")\n",
    "print(f\"F1-score (custom threshold): {f1_score(y_test, y_pred_custom)}\")\n",
    "\n",
    "print(\"best threshold for max recall : \\n\")\n",
    "min_precision = .9\n",
    "valid_idx = np.where(precisions[:-1] >= min_precision)[0]\n",
    "best_threshold = thresholds[valid_idx][recalls[valid_idx].argmax()]\n",
    "\n",
    "print(\"best Threshold:\", best_threshold)\n",
    "y_pred_custom = (y_proba[:,1] >= best_threshold).astype(int)\n",
    "print(f\"Precision (custom threshold): {precision_score(y_test, y_pred_custom)}\")\n",
    "print(f\"Recall (custom threshold): {recall_score(y_test, y_pred_custom)}\")\n",
    "print(f\"F1-score (custom threshold): {f1_score(y_test, y_pred_custom)}\")"
   ]
  },
  {
   "cell_type": "markdown",
   "id": "7158f83e",
   "metadata": {},
   "source": [
    "## NearMiss"
   ]
  },
  {
   "cell_type": "code",
   "execution_count": 17,
   "id": "86f86e74",
   "metadata": {},
   "outputs": [],
   "source": [
    "from imblearn.under_sampling import NearMiss"
   ]
  },
  {
   "cell_type": "code",
   "execution_count": 18,
   "id": "a9680d8e",
   "metadata": {},
   "outputs": [],
   "source": [
    "nm = NearMiss(version=1)\n",
    "X_train_miss_1, y_train_miss_1 = nm.fit_resample(X_train, y_train)"
   ]
  },
  {
   "cell_type": "code",
   "execution_count": 19,
   "id": "be6a27b4",
   "metadata": {},
   "outputs": [],
   "source": [
    "nm = NearMiss(version=2)\n",
    "X_train_miss_2, y_train_miss_2 = nm.fit_resample(X_train, y_train)"
   ]
  },
  {
   "cell_type": "code",
   "execution_count": 20,
   "id": "66fbf51b",
   "metadata": {},
   "outputs": [],
   "source": [
    "nm = NearMiss(version=3)\n",
    "X_train_miss_3, y_train_miss_3 = nm.fit_resample(X_train, y_train)"
   ]
  },
  {
   "cell_type": "code",
   "execution_count": 21,
   "id": "f27304ee",
   "metadata": {},
   "outputs": [],
   "source": [
    "def nearMiss(model,X_train,y_train):\n",
    "    model.fit(X_train, y_train)\n",
    "    y_pred = model.predict(X_test)\n",
    "    y_proba = model.predict_proba(X_test)\n",
    "    print(f\"Model: {model.__class__.__name__}\")\n",
    "    print(f\"accuracy_score is : {accuracy_score(y_test, y_pred)} \")\n",
    "    print(f\"precision_score is : {precision_score(y_test, y_pred)}\")\n",
    "    print(f\"recall_score is : {recall_score(y_test, y_pred)}\")\n",
    "    print(f\"f1_score is : {f1_score(y_test, y_pred)}\")\n",
    "\n",
    "    precisions, recalls, thresholds = precision_recall_curve(y_test, y_proba[:,1])\n",
    "\n",
    "    print(\"best threshold for max f1_score : \\n\")\n",
    "\n",
    "    f1_scores = 2 * (precisions * recalls) / (precisions + recalls)\n",
    "\n",
    "    best_threshold = thresholds[f1_scores.argmax()]\n",
    "    print(\"best Threshold:\", best_threshold)\n",
    "    y_pred_custom = (y_proba[:,1] >= best_threshold).astype(int)\n",
    "    print(f\"Precision (custom threshold): {precision_score(y_test, y_pred_custom)}\")\n",
    "    print(f\"Recall (custom threshold): {recall_score(y_test, y_pred_custom)}\")\n",
    "    print(f\"F1-score (custom threshold): {f1_score(y_test, y_pred_custom)}\")\n",
    "\n",
    "    print(\"best threshold for max recall : \\n\")\n",
    "    min_precision = .8\n",
    "    valid_idx = np.where(precisions[:-1] >= min_precision)[0]\n",
    "    best_threshold = thresholds[valid_idx][recalls[valid_idx].argmax()]\n",
    "\n",
    "    print(\"best Threshold:\", best_threshold)\n",
    "    y_pred_custom = (y_proba[:,1] >= best_threshold).astype(int)\n",
    "    print(f\"Precision (custom threshold): {precision_score(y_test, y_pred_custom)}\")\n",
    "    print(f\"Recall (custom threshold): {recall_score(y_test, y_pred_custom)}\")\n",
    "    print(f\"F1-score (custom threshold): {f1_score(y_test, y_pred_custom)}\")"
   ]
  },
  {
   "cell_type": "code",
   "execution_count": 22,
   "id": "56d460e5",
   "metadata": {},
   "outputs": [],
   "source": [
    "models = [\n",
    "        XGBClassifier(scale_pos_weight=14, random_state=42),\n",
    "        RandomForestClassifier(n_estimators = 200 , random_state = 42 , n_jobs = -1)\n",
    "]"
   ]
  },
  {
   "cell_type": "code",
   "execution_count": 23,
   "id": "f76da445",
   "metadata": {},
   "outputs": [],
   "source": [
    "X_trains = [X_train_miss_1,X_train_miss_2,X_train_miss_3]\n",
    "y_trains = [y_train_miss_1,y_train_miss_2,y_train_miss_3]"
   ]
  },
  {
   "cell_type": "code",
   "execution_count": null,
   "id": "8cda5bb6",
   "metadata": {},
   "outputs": [
    {
     "name": "stdout",
     "output_type": "stream",
     "text": [
      "Model: XGBClassifier\n",
      "accuracy_score is : 0.551052056532619 \n",
      "precision_score is : 0.003520989006689879\n",
      "recall_score is : 0.9473684210526315\n",
      "f1_score is : 0.007015902712815715\n",
      "best threshold for max f1_score : \n",
      "\n",
      "best Threshold: 0.9999447\n",
      "Precision (custom threshold): 0.711340206185567\n",
      "Recall (custom threshold): 0.7263157894736842\n",
      "F1-score (custom threshold): 0.71875\n",
      "best threshold for max recall : \n",
      "\n",
      "best Threshold: 0.9999716\n",
      "Precision (custom threshold): 0.8\n",
      "Recall (custom threshold): 0.631578947368421\n",
      "F1-score (custom threshold): 0.7058823529411765\n",
      "Model: XGBClassifier\n",
      "accuracy_score is : 0.008194410178691009 \n",
      "precision_score is : 0.0016851142330069533\n",
      "recall_score is : 1.0\n",
      "f1_score is : 0.0033645588000920826\n",
      "best threshold for max f1_score : \n",
      "\n",
      "best Threshold: 0.9999577\n",
      "Precision (custom threshold): 0.8904109589041096\n",
      "Recall (custom threshold): 0.6842105263157895\n",
      "F1-score (custom threshold): 0.7738095238095238\n",
      "best threshold for max recall : \n",
      "\n",
      "best Threshold: 0.9999522\n",
      "Precision (custom threshold): 0.8354430379746836\n",
      "Recall (custom threshold): 0.6947368421052632\n",
      "F1-score (custom threshold): 0.7586206896551724\n",
      "Model: XGBClassifier\n",
      "accuracy_score is : 0.9529129806506186 \n",
      "precision_score is : 0.02991608901860635\n",
      "recall_score is : 0.8631578947368421\n",
      "f1_score is : 0.05782792665726375\n",
      "best threshold for max f1_score : \n",
      "\n",
      "best Threshold: 0.9998204\n",
      "Precision (custom threshold): 0.8641975308641975\n",
      "Recall (custom threshold): 0.7368421052631579\n",
      "F1-score (custom threshold): 0.7954545454545454\n",
      "best threshold for max recall : \n",
      "\n",
      "best Threshold: 0.99950314\n",
      "Precision (custom threshold): 0.8068181818181818\n",
      "Recall (custom threshold): 0.7473684210526316\n",
      "F1-score (custom threshold): 0.7759562841530054\n",
      "Model: RandomForestClassifier\n",
      "accuracy_score is : 0.6853698939132273 \n",
      "precision_score is : 0.004906607192640089\n",
      "recall_score is : 0.9263157894736842\n",
      "f1_score is : 0.009761508596783139\n",
      "best threshold for max f1_score : \n",
      "\n",
      "best Threshold: 0.95\n",
      "Precision (custom threshold): 0.8765432098765432\n",
      "Recall (custom threshold): 0.7473684210526316\n",
      "F1-score (custom threshold): 0.8068181818181818\n",
      "best threshold for max recall : \n",
      "\n",
      "best Threshold: 0.905\n",
      "Precision (custom threshold): 0.8\n",
      "Recall (custom threshold): 0.7578947368421053\n",
      "F1-score (custom threshold): 0.7783783783783784\n",
      "Model: RandomForestClassifier\n",
      "accuracy_score is : 0.3599548866880485 \n",
      "precision_score is : 0.0026088150487436497\n",
      "recall_score is : 1.0\n",
      "f1_score is : 0.005204053683922213\n",
      "best threshold for max f1_score : \n",
      "\n",
      "best Threshold: 0.975\n",
      "Precision (custom threshold): 0.8607594936708861\n",
      "Recall (custom threshold): 0.7157894736842105\n",
      "F1-score (custom threshold): 0.7816091954022989\n",
      "best threshold for max recall : \n",
      "\n",
      "best Threshold: 0.95\n",
      "Precision (custom threshold): 0.8023255813953488\n",
      "Recall (custom threshold): 0.7263157894736842\n",
      "F1-score (custom threshold): 0.7624309392265194\n",
      "Model: RandomForestClassifier\n",
      "accuracy_score is : 0.9879462869629577 \n",
      "precision_score is : 0.1068090787716956\n",
      "recall_score is : 0.8421052631578947\n",
      "f1_score is : 0.1895734597156398\n",
      "best threshold for max f1_score : \n",
      "\n",
      "best Threshold: 0.88\n",
      "Precision (custom threshold): 0.8658536585365854\n",
      "Recall (custom threshold): 0.7473684210526316\n",
      "F1-score (custom threshold): 0.8022598870056498\n",
      "best threshold for max recall : \n",
      "\n",
      "best Threshold: 0.81\n",
      "Precision (custom threshold): 0.8043478260869565\n",
      "Recall (custom threshold): 0.7789473684210526\n",
      "F1-score (custom threshold): 0.7914438502673797\n"
     ]
    }
   ],
   "source": [
    "for model in models:\n",
    "    for x,y in zip(X_trains,y_trains):\n",
    "        nearMiss(model,x,y)\n",
    "        "
   ]
  },
  {
   "cell_type": "markdown",
   "id": "37c1fadb",
   "metadata": {},
   "source": [
    "not good"
   ]
  },
  {
   "cell_type": "markdown",
   "id": "7bf0d877",
   "metadata": {},
   "source": [
    "## TomekLinks\n"
   ]
  },
  {
   "cell_type": "code",
   "execution_count": 25,
   "id": "64ae48d6",
   "metadata": {},
   "outputs": [],
   "source": [
    "from imblearn.under_sampling import TomekLinks"
   ]
  },
  {
   "cell_type": "code",
   "execution_count": 26,
   "id": "06b481dd",
   "metadata": {},
   "outputs": [],
   "source": [
    "tl = TomekLinks()\n",
    "X_train_tl, y_train_tl = tl.fit_resample(X_train, y_train)"
   ]
  },
  {
   "cell_type": "code",
   "execution_count": 27,
   "id": "2c844dc9",
   "metadata": {},
   "outputs": [
    {
     "data": {
      "text/plain": [
       "Class\n",
       "0        226542\n",
       "1           378\n",
       "Name: count, dtype: int64"
      ]
     },
     "execution_count": 27,
     "metadata": {},
     "output_type": "execute_result"
    }
   ],
   "source": [
    "y_train_tl.value_counts()"
   ]
  },
  {
   "cell_type": "code",
   "execution_count": 28,
   "id": "94f916dd",
   "metadata": {},
   "outputs": [
    {
     "name": "stdout",
     "output_type": "stream",
     "text": [
      "XGB results : \n",
      "\n",
      "accuracy_score is : 0.9995241955380115 \n",
      "precision_score is : 0.9358974358974359\n",
      "recall_score is : 0.7684210526315789\n",
      "f1_score is : 0.8439306358381503\n",
      "best threshold for max f1_score : \n",
      "\n",
      "best Threshold: 0.51631576\n",
      "Precision (custom threshold): 0.948051948051948\n",
      "Recall (custom threshold): 0.7684210526315789\n",
      "F1-score (custom threshold): 0.8488372093023255\n",
      "best threshold for max recall : \n",
      "\n",
      "best Threshold: 0.2539553\n",
      "Precision (custom threshold): 0.9024390243902439\n",
      "Recall (custom threshold): 0.7789473684210526\n",
      "F1-score (custom threshold): 0.8361581920903954\n"
     ]
    }
   ],
   "source": [
    "xgb_model = XGBClassifier(scale_pos_weight=14, random_state=42)\n",
    "xgb_model.fit(X_train_tl, y_train_tl)\n",
    "y_pred = xgb_model.predict(X_test)\n",
    "y_proba = xgb_model.predict_proba(X_test)\n",
    "print(\"XGB results : \\n\")\n",
    "print(f\"accuracy_score is : {accuracy_score(y_test, y_pred)} \")\n",
    "print(f\"precision_score is : {precision_score(y_test, y_pred)}\")\n",
    "print(f\"recall_score is : {recall_score(y_test, y_pred)}\")\n",
    "print(f\"f1_score is : {f1_score(y_test, y_pred)}\")\n",
    "\n",
    "precisions, recalls, thresholds = precision_recall_curve(y_test, y_proba[:,1])\n",
    "\n",
    "print(\"best threshold for max f1_score : \\n\")\n",
    "\n",
    "f1_scores = 2 * (precisions * recalls) / (precisions + recalls)\n",
    "\n",
    "best_threshold = thresholds[f1_scores.argmax()]\n",
    "print(\"best Threshold:\", best_threshold)\n",
    "y_pred_custom = (y_proba[:,1] >= best_threshold).astype(int)\n",
    "print(f\"Precision (custom threshold): {precision_score(y_test, y_pred_custom)}\")\n",
    "print(f\"Recall (custom threshold): {recall_score(y_test, y_pred_custom)}\")\n",
    "print(f\"F1-score (custom threshold): {f1_score(y_test, y_pred_custom)}\")\n",
    "\n",
    "print(\"best threshold for max recall : \\n\")\n",
    "min_precision = .9\n",
    "valid_idx = np.where(precisions[:-1] >= min_precision)[0]\n",
    "best_threshold = thresholds[valid_idx][recalls[valid_idx].argmax()]\n",
    "\n",
    "print(\"best Threshold:\", best_threshold)\n",
    "y_pred_custom = (y_proba[:,1] >= best_threshold).astype(int)\n",
    "print(f\"Precision (custom threshold): {precision_score(y_test, y_pred_custom)}\")\n",
    "print(f\"Recall (custom threshold): {recall_score(y_test, y_pred_custom)}\")\n",
    "print(f\"F1-score (custom threshold): {f1_score(y_test, y_pred_custom)}\")"
   ]
  },
  {
   "cell_type": "code",
   "execution_count": 29,
   "id": "42eb03b1",
   "metadata": {},
   "outputs": [
    {
     "name": "stdout",
     "output_type": "stream",
     "text": [
      "accuracy_score is : 0.9995418179254926 \n",
      "precision_score is : 0.9726027397260274\n",
      "recall_score is : 0.7473684210526316\n",
      "f1_score is : 0.8452380952380952\n",
      "The ROC score is : 0.9392004972272521\n",
      "******************************\n",
      "best threshold for max f1_score : \n",
      "\n",
      "best Threshold: 0.52\n",
      "Precision (custom threshold): 0.9726027397260274\n",
      "Recall (custom threshold): 0.7473684210526316\n",
      "F1-score (custom threshold): 0.8452380952380952\n",
      "best threshold for max recall : \n",
      "\n",
      "best Threshold: 0.335\n",
      "Precision (custom threshold): 0.9102564102564102\n",
      "Recall (custom threshold): 0.7473684210526316\n",
      "F1-score (custom threshold): 0.8208092485549133\n"
     ]
    }
   ],
   "source": [
    "random_forest = RandomForestClassifier(n_estimators = 200 , random_state = 42 , n_jobs = -1)\n",
    "random_forest.fit(X_train_tl , y_train_tl)\n",
    "y_pred = random_forest.predict(X_test)\n",
    "y_proba = random_forest.predict_proba(X_test)\n",
    "print(f\"accuracy_score is : {accuracy_score(y_test, y_pred)} \")\n",
    "print(f\"precision_score is : {precision_score(y_test, y_pred)}\")\n",
    "print(f\"recall_score is : {recall_score(y_test, y_pred)}\")\n",
    "print(f\"f1_score is : {f1_score(y_test, y_pred)}\")\n",
    "print(f\"The ROC score is : {roc_auc_score(y_test , y_proba[:,1])}\")\n",
    "\n",
    "print(\"*\" * 30)\n",
    "\n",
    "precisions, recalls, thresholds = precision_recall_curve(y_test, y_proba[:,1])\n",
    "\n",
    "print(\"best threshold for max f1_score : \\n\")\n",
    "\n",
    "\n",
    "f1_scores = 2 * (precisions * recalls) / (precisions + recalls)\n",
    "\n",
    "\n",
    "best_threshold = thresholds[f1_scores.argmax()]\n",
    "print(\"best Threshold:\", best_threshold)\n",
    "y_pred_custom = (y_proba[:,1] >= best_threshold).astype(int)\n",
    "print(f\"Precision (custom threshold): {precision_score(y_test, y_pred_custom)}\")\n",
    "print(f\"Recall (custom threshold): {recall_score(y_test, y_pred_custom)}\")\n",
    "print(f\"F1-score (custom threshold): {f1_score(y_test, y_pred_custom)}\")\n",
    "\n",
    "print(\"best threshold for max recall : \\n\")\n",
    "min_precision = .9\n",
    "valid_idx = np.where(precisions[:-1] >= min_precision)[0]\n",
    "best_threshold = thresholds[valid_idx][recalls[valid_idx].argmax()]\n",
    "\n",
    "print(\"best Threshold:\", best_threshold)\n",
    "y_pred_custom = (y_proba[:,1] >= best_threshold).astype(int)\n",
    "print(f\"Precision (custom threshold): {precision_score(y_test, y_pred_custom)}\")\n",
    "print(f\"Recall (custom threshold): {recall_score(y_test, y_pred_custom)}\")\n",
    "print(f\"F1-score (custom threshold): {f1_score(y_test, y_pred_custom)}\")"
   ]
  },
  {
   "cell_type": "markdown",
   "id": "e74b3a18",
   "metadata": {},
   "source": [
    "## EditedNearestNeighbours"
   ]
  },
  {
   "cell_type": "code",
   "execution_count": 30,
   "id": "d746510c",
   "metadata": {},
   "outputs": [],
   "source": [
    "from imblearn.under_sampling import EditedNearestNeighbours"
   ]
  },
  {
   "cell_type": "code",
   "execution_count": 31,
   "id": "2b7fc6e7",
   "metadata": {},
   "outputs": [],
   "source": [
    "EditedNearestNeighbours = EditedNearestNeighbours()\n",
    "X_train_edN, y_train_edN = EditedNearestNeighbours.fit_resample(X_train, y_train)"
   ]
  },
  {
   "cell_type": "code",
   "execution_count": 32,
   "id": "2125bd88",
   "metadata": {},
   "outputs": [
    {
     "name": "stdout",
     "output_type": "stream",
     "text": [
      "XGB results : \n",
      "\n",
      "accuracy_score is : 0.9994713283755683 \n",
      "precision_score is : 0.922077922077922\n",
      "recall_score is : 0.7473684210526316\n",
      "f1_score is : 0.8255813953488372\n",
      "best threshold for max f1_score : \n",
      "\n",
      "best Threshold: 0.9651973\n",
      "Precision (custom threshold): 0.9859154929577465\n",
      "Recall (custom threshold): 0.7368421052631579\n",
      "F1-score (custom threshold): 0.8433734939759037\n",
      "best threshold for max recall : \n",
      "\n",
      "best Threshold: 0.21197009\n",
      "Precision (custom threshold): 0.9012345679012346\n",
      "Recall (custom threshold): 0.7684210526315789\n",
      "F1-score (custom threshold): 0.8295454545454546\n"
     ]
    }
   ],
   "source": [
    "xgb_model = XGBClassifier(scale_pos_weight=14, random_state=42)\n",
    "xgb_model.fit(X_train_edN, y_train_edN)\n",
    "y_pred = xgb_model.predict(X_test)\n",
    "y_proba = xgb_model.predict_proba(X_test)\n",
    "print(\"XGB results : \\n\")\n",
    "print(f\"accuracy_score is : {accuracy_score(y_test, y_pred)} \")\n",
    "print(f\"precision_score is : {precision_score(y_test, y_pred)}\")\n",
    "print(f\"recall_score is : {recall_score(y_test, y_pred)}\")\n",
    "print(f\"f1_score is : {f1_score(y_test, y_pred)}\")\n",
    "\n",
    "precisions, recalls, thresholds = precision_recall_curve(y_test, y_proba[:,1])\n",
    "\n",
    "print(\"best threshold for max f1_score : \\n\")\n",
    "\n",
    "f1_scores = 2 * (precisions * recalls) / (precisions + recalls)\n",
    "\n",
    "best_threshold = thresholds[f1_scores.argmax()]\n",
    "print(\"best Threshold:\", best_threshold)\n",
    "y_pred_custom = (y_proba[:,1] >= best_threshold).astype(int)\n",
    "print(f\"Precision (custom threshold): {precision_score(y_test, y_pred_custom)}\")\n",
    "print(f\"Recall (custom threshold): {recall_score(y_test, y_pred_custom)}\")\n",
    "print(f\"F1-score (custom threshold): {f1_score(y_test, y_pred_custom)}\")\n",
    "\n",
    "print(\"best threshold for max recall : \\n\")\n",
    "min_precision = .9\n",
    "valid_idx = np.where(precisions[:-1] >= min_precision)[0]\n",
    "best_threshold = thresholds[valid_idx][recalls[valid_idx].argmax()]\n",
    "\n",
    "print(\"best Threshold:\", best_threshold)\n",
    "y_pred_custom = (y_proba[:,1] >= best_threshold).astype(int)\n",
    "print(f\"Precision (custom threshold): {precision_score(y_test, y_pred_custom)}\")\n",
    "print(f\"Recall (custom threshold): {recall_score(y_test, y_pred_custom)}\")\n",
    "print(f\"F1-score (custom threshold): {f1_score(y_test, y_pred_custom)}\")"
   ]
  },
  {
   "cell_type": "code",
   "execution_count": 33,
   "id": "44e6a630",
   "metadata": {},
   "outputs": [
    {
     "name": "stdout",
     "output_type": "stream",
     "text": [
      "accuracy_score is : 0.9995594403129736 \n",
      "precision_score is : 0.9861111111111112\n",
      "recall_score is : 0.7473684210526316\n",
      "f1_score is : 0.8502994011976048\n",
      "The ROC score is : 0.9442722709405418\n",
      "******************************\n",
      "best threshold for max f1_score : \n",
      "\n",
      "best Threshold: 0.54\n",
      "Precision (custom threshold): 0.9861111111111112\n",
      "Recall (custom threshold): 0.7473684210526316\n",
      "F1-score (custom threshold): 0.8502994011976048\n",
      "best threshold for max recall : \n",
      "\n",
      "best Threshold: 0.335\n",
      "Precision (custom threshold): 0.9\n",
      "Recall (custom threshold): 0.7578947368421053\n",
      "F1-score (custom threshold): 0.8228571428571428\n"
     ]
    }
   ],
   "source": [
    "random_forest = RandomForestClassifier(n_estimators = 200 , random_state = 42 , n_jobs = -1)\n",
    "random_forest.fit(X_train_edN , y_train_edN)\n",
    "y_pred = random_forest.predict(X_test)\n",
    "y_proba = random_forest.predict_proba(X_test)\n",
    "print(f\"accuracy_score is : {accuracy_score(y_test, y_pred)} \")\n",
    "print(f\"precision_score is : {precision_score(y_test, y_pred)}\")\n",
    "print(f\"recall_score is : {recall_score(y_test, y_pred)}\")\n",
    "print(f\"f1_score is : {f1_score(y_test, y_pred)}\")\n",
    "print(f\"The ROC score is : {roc_auc_score(y_test , y_proba[:,1])}\")\n",
    "\n",
    "print(\"*\" * 30)\n",
    "\n",
    "precisions, recalls, thresholds = precision_recall_curve(y_test, y_proba[:,1])\n",
    "\n",
    "print(\"best threshold for max f1_score : \\n\")\n",
    "\n",
    "\n",
    "f1_scores = 2 * (precisions * recalls) / (precisions + recalls)\n",
    "\n",
    "\n",
    "best_threshold = thresholds[f1_scores.argmax()]\n",
    "print(\"best Threshold:\", best_threshold)\n",
    "y_pred_custom = (y_proba[:,1] >= best_threshold).astype(int)\n",
    "print(f\"Precision (custom threshold): {precision_score(y_test, y_pred_custom)}\")\n",
    "print(f\"Recall (custom threshold): {recall_score(y_test, y_pred_custom)}\")\n",
    "print(f\"F1-score (custom threshold): {f1_score(y_test, y_pred_custom)}\")\n",
    "\n",
    "print(\"best threshold for max recall : \\n\")\n",
    "min_precision = .9\n",
    "valid_idx = np.where(precisions[:-1] >= min_precision)[0]\n",
    "best_threshold = thresholds[valid_idx][recalls[valid_idx].argmax()]\n",
    "\n",
    "print(\"best Threshold:\", best_threshold)\n",
    "y_pred_custom = (y_proba[:,1] >= best_threshold).astype(int)\n",
    "print(f\"Precision (custom threshold): {precision_score(y_test, y_pred_custom)}\")\n",
    "print(f\"Recall (custom threshold): {recall_score(y_test, y_pred_custom)}\")\n",
    "print(f\"F1-score (custom threshold): {f1_score(y_test, y_pred_custom)}\")"
   ]
  },
  {
   "cell_type": "code",
   "execution_count": null,
   "id": "a77efcd3",
   "metadata": {},
   "outputs": [
    {
     "name": "stdout",
     "output_type": "stream",
     "text": [
      "قبل: Counter({'Class': 1})\n",
      "بعد: Counter({'Class': 1})\n"
     ]
    }
   ],
   "source": [
    "from imblearn.combine import SMOTETomek\n",
    "from collections import Counter\n",
    "'''\n",
    "print(\"before :\", Counter(y_train))\n",
    "\n",
    "smote_tomek = SMOTETomek(random_state=42)\n",
    "X_res, y_res = smote_tomek.fit_resample(X_train, y_train)\n",
    "\n",
    "print(\"after :\", Counter(y_res))'''"
   ]
  },
  {
   "cell_type": "code",
   "execution_count": 37,
   "id": "f942f287",
   "metadata": {},
   "outputs": [
    {
     "data": {
      "text/plain": [
       "(Class\n",
       " 0        225955\n",
       " 1        225955\n",
       " Name: count, dtype: int64,\n",
       " Class\n",
       " 0        226602\n",
       " 1           378\n",
       " Name: count, dtype: int64)"
      ]
     },
     "execution_count": 37,
     "metadata": {},
     "output_type": "execute_result"
    }
   ],
   "source": [
    "y_res.value_counts(),y_train.value_counts()"
   ]
  },
  {
   "cell_type": "code",
   "execution_count": 46,
   "id": "ec6fdafa",
   "metadata": {},
   "outputs": [],
   "source": [
    "smote_tomek = SMOTETomek(sampling_strategy=0.25,random_state=42)\n",
    "X_sm_tomek_25, y_sm_tomek_25 = smote_tomek.fit_resample(X_train, y_train)"
   ]
  },
  {
   "cell_type": "code",
   "execution_count": 51,
   "id": "44c97ef4",
   "metadata": {},
   "outputs": [
    {
     "name": "stdout",
     "output_type": "stream",
     "text": [
      "XGB results : \n",
      "\n",
      "accuracy_score is : 0.9993479716632009 \n",
      "precision_score is : 0.8085106382978723\n",
      "recall_score is : 0.8\n",
      "f1_score is : 0.8042328042328042\n",
      "best threshold for max f1_score : \n",
      "\n",
      "best Threshold: 0.97334576\n",
      "Precision (custom threshold): 0.9382716049382716\n",
      "Recall (custom threshold): 0.8\n",
      "F1-score (custom threshold): 0.8636363636363636\n",
      "best threshold for max recall : \n",
      "\n",
      "best Threshold: 0.89351237\n",
      "Precision (custom threshold): 0.9047619047619048\n",
      "Recall (custom threshold): 0.8\n",
      "F1-score (custom threshold): 0.8491620111731844\n"
     ]
    }
   ],
   "source": [
    "xgb_model = XGBClassifier(scale_pos_weight=14, random_state=42)\n",
    "xgb_model.fit(X_sm_tomek_25, y_sm_tomek_25)\n",
    "y_pred = xgb_model.predict(X_test)\n",
    "y_proba = xgb_model.predict_proba(X_test)\n",
    "print(\"XGB results : \\n\")\n",
    "print(f\"accuracy_score is : {accuracy_score(y_test, y_pred)} \")\n",
    "print(f\"precision_score is : {precision_score(y_test, y_pred)}\")\n",
    "print(f\"recall_score is : {recall_score(y_test, y_pred)}\")\n",
    "print(f\"f1_score is : {f1_score(y_test, y_pred)}\")\n",
    "\n",
    "precisions, recalls, thresholds = precision_recall_curve(y_test, y_proba[:,1])\n",
    "\n",
    "print(\"best threshold for max f1_score : \\n\")\n",
    "\n",
    "f1_scores = 2 * (precisions * recalls) / (precisions + recalls)\n",
    "\n",
    "best_threshold = thresholds[f1_scores.argmax()]\n",
    "print(\"best Threshold:\", best_threshold)\n",
    "y_pred_custom = (y_proba[:,1] >= best_threshold).astype(int)\n",
    "print(f\"Precision (custom threshold): {precision_score(y_test, y_pred_custom)}\")\n",
    "print(f\"Recall (custom threshold): {recall_score(y_test, y_pred_custom)}\")\n",
    "print(f\"F1-score (custom threshold): {f1_score(y_test, y_pred_custom)}\")\n",
    "\n",
    "print(\"best threshold for max recall : \\n\")\n",
    "min_precision = .9\n",
    "valid_idx = np.where(precisions[:-1] >= min_precision)[0]\n",
    "best_threshold = thresholds[valid_idx][recalls[valid_idx].argmax()]\n",
    "\n",
    "print(\"best Threshold:\", best_threshold)\n",
    "y_pred_custom = (y_proba[:,1] >= best_threshold).astype(int)\n",
    "print(f\"Precision (custom threshold): {precision_score(y_test, y_pred_custom)}\")\n",
    "print(f\"Recall (custom threshold): {recall_score(y_test, y_pred_custom)}\")\n",
    "print(f\"F1-score (custom threshold): {f1_score(y_test, y_pred_custom)}\")"
   ]
  },
  {
   "cell_type": "markdown",
   "id": "258c2a8e",
   "metadata": {},
   "source": []
  },
  {
   "cell_type": "markdown",
   "id": "1ce2f317",
   "metadata": {},
   "source": []
  },
  {
   "cell_type": "markdown",
   "id": "065e2226",
   "metadata": {},
   "source": [
    "## SMOTETomek"
   ]
  },
  {
   "cell_type": "code",
   "execution_count": 30,
   "id": "a5094ead",
   "metadata": {},
   "outputs": [],
   "source": [
    "from imblearn.combine import SMOTETomek"
   ]
  },
  {
   "cell_type": "code",
   "execution_count": 31,
   "id": "b4e9cdcd",
   "metadata": {},
   "outputs": [],
   "source": [
    "smote_tomek = SMOTETomek(sampling_strategy=0.1,random_state=42)\n",
    "X_sm_tomek, y_sm_tomek = smote_tomek.fit_resample(X_train, y_train)"
   ]
  },
  {
   "cell_type": "code",
   "execution_count": 39,
   "id": "35fba74b",
   "metadata": {},
   "outputs": [
    {
     "data": {
      "text/plain": [
       "(Class\n",
       " 0        225589\n",
       " 1         21647\n",
       " Name: count, dtype: int64,\n",
       " Class\n",
       " 0        226602\n",
       " 1           378\n",
       " Name: count, dtype: int64)"
      ]
     },
     "execution_count": 39,
     "metadata": {},
     "output_type": "execute_result"
    }
   ],
   "source": [
    "y_sm_tomek.value_counts(),y_train.value_counts()"
   ]
  },
  {
   "cell_type": "code",
   "execution_count": null,
   "id": "2d1180a1",
   "metadata": {},
   "outputs": [
    {
     "name": "stdout",
     "output_type": "stream",
     "text": [
      "XGB results : \n",
      "\n",
      "accuracy_score is : 0.9994537059880872 \n",
      "precision_score is : 0.8636363636363636\n",
      "recall_score is : 0.8\n",
      "f1_score is : 0.8306010928961749\n",
      "best threshold for max f1_score : \n",
      "\n",
      "best Threshold: 0.9573521\n",
      "Precision (custom threshold): 0.9620253164556962\n",
      "Recall (custom threshold): 0.8\n",
      "F1-score (custom threshold): 0.8735632183908046\n",
      "best threshold for max recall : \n",
      "\n",
      "best Threshold: 0.7340847\n",
      "Precision (custom threshold): 0.9047619047619048\n",
      "Recall (custom threshold): 0.8\n",
      "F1-score (custom threshold): 0.8491620111731844\n"
     ]
    }
   ],
   "source": [
    "xgb_model = XGBClassifier(scale_pos_weight=14, random_state=42)\n",
    "xgb_model.fit(X_sm_tomek, y_sm_tomek)\n",
    "y_pred = xgb_model.predict(X_test)\n",
    "y_proba = xgb_model.predict_proba(X_test)\n",
    "print(\"XGB results : \\n\")\n",
    "print(f\"accuracy_score is : {accuracy_score(y_test, y_pred)} \")\n",
    "print(f\"precision_score is : {precision_score(y_test, y_pred)}\")\n",
    "print(f\"recall_score is : {recall_score(y_test, y_pred)}\")\n",
    "print(f\"f1_score is : {f1_score(y_test, y_pred)}\")\n",
    "\n",
    "precisions, recalls, thresholds = precision_recall_curve(y_test, y_proba[:,1])\n",
    "\n",
    "print(\"best threshold for max f1_score : \\n\")\n",
    "\n",
    "f1_scores = 2 * (precisions * recalls) / (precisions + recalls)\n",
    "\n",
    "best_threshold = thresholds[f1_scores.argmax()]\n",
    "print(\"best Threshold:\", best_threshold)\n",
    "y_pred_custom = (y_proba[:,1] >= best_threshold).astype(int)\n",
    "print(f\"Precision (custom threshold): {precision_score(y_test, y_pred_custom)}\")\n",
    "print(f\"Recall (custom threshold): {recall_score(y_test, y_pred_custom)}\")\n",
    "print(f\"F1-score (custom threshold): {f1_score(y_test, y_pred_custom)}\")\n",
    "\n",
    "print(\"best threshold for max recall : \\n\")\n",
    "min_precision = .9\n",
    "valid_idx = np.where(precisions[:-1] >= min_precision)[0]\n",
    "best_threshold = thresholds[valid_idx][recalls[valid_idx].argmax()]\n",
    "\n",
    "print(\"best Threshold:\", best_threshold)\n",
    "y_pred_custom = (y_proba[:,1] >= best_threshold).astype(int)\n",
    "print(f\"Precision (custom threshold): {precision_score(y_test, y_pred_custom)}\")\n",
    "print(f\"Recall (custom threshold): {recall_score(y_test, y_pred_custom)}\")\n",
    "print(f\"F1-score (custom threshold): {f1_score(y_test, y_pred_custom)}\")"
   ]
  },
  {
   "cell_type": "markdown",
   "id": "6a92cd86",
   "metadata": {},
   "source": [
    "best results till now : \n",
    "1. about .87 f1-score (good)\n",
    "2. we care about recall (less FN) as we don't want to miss any fraud\n",
    "3. precision is great also (.96)"
   ]
  },
  {
   "cell_type": "code",
   "execution_count": null,
   "id": "cf97fc3d",
   "metadata": {},
   "outputs": [
    {
     "name": "stdout",
     "output_type": "stream",
     "text": [
      "XGB results : \n",
      "\n",
      "accuracy_score is : 0.9995065731505305 \n",
      "precision_score is : 0.9135802469135802\n",
      "recall_score is : 0.7789473684210526\n",
      "f1_score is : 0.8409090909090909\n",
      "best threshold for max f1_score : \n",
      "\n",
      "best Threshold: 0.57\n",
      "Precision (custom threshold): 0.9135802469135802\n",
      "Recall (custom threshold): 0.7789473684210526\n",
      "F1-score (custom threshold): 0.8409090909090909\n",
      "best threshold for max recall : \n",
      "\n",
      "best Threshold: 0.44\n",
      "Precision (custom threshold): 0.9024390243902439\n",
      "Recall (custom threshold): 0.7789473684210526\n",
      "F1-score (custom threshold): 0.8361581920903954\n"
     ]
    }
   ],
   "source": [
    "random_forest_model = RandomForestClassifier(n_estimators=100, random_state=42)\n",
    "random_forest_model.fit(X_sm_tomek, y_sm_tomek)\n",
    "y_pred = random_forest_model.predict(X_test)\n",
    "y_proba = random_forest_model.predict_proba(X_test)\n",
    "print(f\"accuracy_score is : {accuracy_score(y_test, y_pred)} \")\n",
    "print(f\"precision_score is : {precision_score(y_test, y_pred)}\")\n",
    "print(f\"recall_score is : {recall_score(y_test, y_pred)}\")\n",
    "print(f\"f1_score is : {f1_score(y_test, y_pred)}\")\n",
    "\n",
    "precisions, recalls, thresholds = precision_recall_curve(y_test, y_proba[:,1])\n",
    "\n",
    "print(\"best threshold for max f1_score : \\n\")\n",
    "\n",
    "f1_scores = 2 * (precisions * recalls) / (precisions + recalls)\n",
    "\n",
    "best_threshold = thresholds[f1_scores.argmax()]\n",
    "print(\"best Threshold:\", best_threshold)\n",
    "y_pred_custom = (y_proba[:,1] >= best_threshold).astype(int)\n",
    "print(f\"Precision (custom threshold): {precision_score(y_test, y_pred_custom)}\")\n",
    "print(f\"Recall (custom threshold): {recall_score(y_test, y_pred_custom)}\")\n",
    "print(f\"F1-score (custom threshold): {f1_score(y_test, y_pred_custom)}\")\n",
    "\n",
    "print(\"best threshold for max recall : \\n\")\n",
    "min_precision = .9\n",
    "valid_idx = np.where(precisions[:-1] >= min_precision)[0]\n",
    "best_threshold = thresholds[valid_idx][recalls[valid_idx].argmax()]\n",
    "\n",
    "print(\"best Threshold:\", best_threshold)\n",
    "y_pred_custom = (y_proba[:,1] >= best_threshold).astype(int)\n",
    "print(f\"Precision (custom threshold): {precision_score(y_test, y_pred_custom)}\")\n",
    "print(f\"Recall (custom threshold): {recall_score(y_test, y_pred_custom)}\")\n",
    "print(f\"F1-score (custom threshold): {f1_score(y_test, y_pred_custom)}\")"
   ]
  },
  {
   "cell_type": "code",
   "execution_count": 144,
   "id": "3521c1fc",
   "metadata": {},
   "outputs": [
    {
     "name": "stdout",
     "output_type": "stream",
     "text": [
      "XGB results : \n",
      "\n",
      "accuracy_score is : 0.9992246149508336 \n",
      "precision_score is : 0.7524752475247525\n",
      "recall_score is : 0.8\n",
      "f1_score is : 0.7755102040816326\n",
      "best threshold for max f1_score : \n",
      "\n",
      "best Threshold: 0.9773358\n",
      "Precision (custom threshold): 0.9156626506024096\n",
      "Recall (custom threshold): 0.8\n",
      "F1-score (custom threshold): 0.8539325842696629\n",
      "best threshold for max recall : \n",
      "\n",
      "best Threshold: 0.9702259\n",
      "Precision (custom threshold): 0.9047619047619048\n",
      "Recall (custom threshold): 0.8\n",
      "F1-score (custom threshold): 0.8491620111731844\n"
     ]
    }
   ],
   "source": [
    "y_array = np.array(y_train).ravel().astype(int)\n",
    "neg, pos = np.bincount(y_array)\n",
    "scale = neg / pos\n",
    "xgb_model = XGBClassifier(scale_pos_weight=scale, random_state=42)\n",
    "xgb_model.fit(X_sm_tomek, y_sm_tomek)\n",
    "y_pred = xgb_model.predict(X_test)\n",
    "y_proba = xgb_model.predict_proba(X_test)\n",
    "print(\"XGB results : \\n\")\n",
    "print(f\"accuracy_score is : {accuracy_score(y_test, y_pred)} \")\n",
    "print(f\"precision_score is : {precision_score(y_test, y_pred)}\")\n",
    "print(f\"recall_score is : {recall_score(y_test, y_pred)}\")\n",
    "print(f\"f1_score is : {f1_score(y_test, y_pred)}\")\n",
    "\n",
    "precisions, recalls, thresholds = precision_recall_curve(y_test, y_proba[:,1])\n",
    "\n",
    "print(\"best threshold for max f1_score : \\n\")\n",
    "\n",
    "f1_scores = 2 * (precisions * recalls) / (precisions + recalls)\n",
    "\n",
    "best_threshold = thresholds[f1_scores.argmax()]\n",
    "print(\"best Threshold:\", best_threshold)\n",
    "y_pred_custom = (y_proba[:,1] >= best_threshold).astype(int)\n",
    "print(f\"Precision (custom threshold): {precision_score(y_test, y_pred_custom)}\")\n",
    "print(f\"Recall (custom threshold): {recall_score(y_test, y_pred_custom)}\")\n",
    "print(f\"F1-score (custom threshold): {f1_score(y_test, y_pred_custom)}\")\n",
    "\n",
    "print(\"best threshold for max recall : \\n\")\n",
    "min_precision = .9\n",
    "valid_idx = np.where(precisions[:-1] >= min_precision)[0]\n",
    "best_threshold = thresholds[valid_idx][recalls[valid_idx].argmax()]\n",
    "\n",
    "print(\"best Threshold:\", best_threshold)\n",
    "y_pred_custom = (y_proba[:,1] >= best_threshold).astype(int)\n",
    "print(f\"Precision (custom threshold): {precision_score(y_test, y_pred_custom)}\")\n",
    "print(f\"Recall (custom threshold): {recall_score(y_test, y_pred_custom)}\")\n",
    "print(f\"F1-score (custom threshold): {f1_score(y_test, y_pred_custom)}\")"
   ]
  },
  {
   "cell_type": "code",
   "execution_count": 19,
   "id": "e500ed25",
   "metadata": {},
   "outputs": [],
   "source": [
    "train_df = pd.concat([X_train,y_train],axis=1)"
   ]
  },
  {
   "cell_type": "code",
   "execution_count": 20,
   "id": "f53d40e9",
   "metadata": {},
   "outputs": [],
   "source": [
    "positive_class = train_df[train_df['Class'] == 1]\n",
    "negative_class = train_df[train_df['Class'] == 0].sample(n=50000, random_state=42)\n",
    "\n",
    "new_data = pd.concat([positive_class, negative_class], axis=0)\n",
    "new_data = new_data.sample(frac=1, random_state=42).reset_index(drop=True)\n",
    "\n",
    "X_train_new = new_data.drop(columns=['Class'])\n",
    "y_train_new = new_data['Class']\n",
    "\n"
   ]
  },
  {
   "cell_type": "code",
   "execution_count": 24,
   "id": "8925c97c",
   "metadata": {},
   "outputs": [
    {
     "data": {
      "text/plain": [
       "Class\n",
       "0    50000\n",
       "1      378\n",
       "Name: count, dtype: int64"
      ]
     },
     "execution_count": 24,
     "metadata": {},
     "output_type": "execute_result"
    }
   ],
   "source": [
    "y_train_new.value_counts()"
   ]
  },
  {
   "cell_type": "code",
   "execution_count": 33,
   "id": "22484604",
   "metadata": {},
   "outputs": [
    {
     "name": "stdout",
     "output_type": "stream",
     "text": [
      "accuracy_score is : 0.9994360836006062 \n",
      "precision_score is : 0.8888888888888888\n",
      "recall_score is : 0.7578947368421053\n",
      "f1_score is : 0.8181818181818182\n",
      "******************************\n",
      "Precision (custom threshold): 0.958904109589041\n",
      "Recall (custom threshold): 0.7368421052631579\n",
      "F1-score (custom threshold): 0.8333333333333334\n"
     ]
    }
   ],
   "source": [
    "random_forest_new = RandomForestClassifier(n_estimators=200 , max_depth=30,random_state=42)\n",
    "random_forest_new.fit(X_train_new, y_train_new)\n",
    "y_pred = random_forest_new.predict(X_test)\n",
    "y_proba = random_forest_new.predict_proba(X_test)\n",
    "print(f\"accuracy_score is : {accuracy_score(y_test , y_pred)} \")\n",
    "print(f\"precision_score is : {precision_score(y_test , y_pred)}\")\n",
    "print(f\"recall_score is : {recall_score(y_test , y_pred)}\")\n",
    "print(f\"f1_score is : {f1_score(y_test , y_pred)}\")\n",
    "\n",
    "print(\"*\" * 30)\n",
    "\n",
    "precision , recall , thresholds = precision_recall_curve(y_test , y_proba[:,1])\n",
    "f1_score_calulated = 2 * (precision * recall) / (precision + recall +1e-10)\n",
    "index_ofmax_thershold = np.argmax(f1_score_calulated)\n",
    "thershold_max = thresholds[index_ofmax_thershold]\n",
    "y_pred_custom = (y_proba[:, 1] >= thershold_max).astype(int)\n",
    "print(f\"Precision (custom threshold): {precision_score(y_test , y_pred_custom)}\")\n",
    "print(f\"Recall (custom threshold): {recall_score(y_test , y_pred_custom)}\")\n",
    "print(f\"F1-score (custom threshold): {f1_score(y_test , y_pred_custom)}\")"
   ]
  },
  {
   "cell_type": "code",
   "execution_count": null,
   "id": "1a5029ec",
   "metadata": {},
   "outputs": [
    {
     "name": "stdout",
     "output_type": "stream",
     "text": [
      "==== SMOTE ====\n",
      "Accuracy: 0.9995065731505305\n",
      "Precision: 0.9135802469135802\n",
      "Recall: 0.7789473684210526\n",
      "F1: 0.8409090909090909\n",
      "\n",
      "==== SMOTETomek ====\n",
      "Accuracy: 0.9995065731505305\n",
      "Precision: 0.9135802469135802\n",
      "Recall: 0.7789473684210526\n",
      "F1: 0.8409090909090909\n",
      "\n",
      "==== SMOTEENN ====\n",
      "Accuracy: 0.9994713283755683\n",
      "Precision: 0.9012345679012346\n",
      "Recall: 0.7684210526315789\n",
      "F1: 0.8295454545454546\n"
     ]
    }
   ],
   "source": [
    "from imblearn.over_sampling import SMOTE\n",
    "from imblearn.combine import SMOTETomek, SMOTEENN\n",
    "from sklearn.metrics import precision_score, recall_score, f1_score, accuracy_score\n",
    "from sklearn.ensemble import RandomForestClassifier\n",
    "\n",
    "rf = RandomForestClassifier(n_estimators=100, random_state=42)\n",
    "\n",
    "# 1) SMOTE\n",
    "smote = SMOTE(sampling_strategy=0.1, random_state=42)\n",
    "X_sm, y_sm = smote.fit_resample(X_train, y_train)\n",
    "rf.fit(X_sm, y_sm)\n",
    "y_pred = rf.predict(X_test)\n",
    "print(\"==== SMOTE ====\")\n",
    "print(\"Accuracy:\", accuracy_score(y_test, y_pred))\n",
    "print(\"Precision:\", precision_score(y_test, y_pred))\n",
    "print(\"Recall:\", recall_score(y_test, y_pred))\n",
    "print(\"F1:\", f1_score(y_test, y_pred))\n",
    "\n",
    "# 2) SMOTETomek\n",
    "smote_tomek = SMOTETomek(sampling_strategy=0.1, random_state=42)\n",
    "X_smt, y_smt = smote_tomek.fit_resample(X_train, y_train)\n",
    "rf.fit(X_smt, y_smt)\n",
    "y_pred = rf.predict(X_test)\n",
    "print(\"\\n==== SMOTETomek ====\")\n",
    "print(\"Accuracy:\", accuracy_score(y_test, y_pred))\n",
    "print(\"Precision:\", precision_score(y_test, y_pred))\n",
    "print(\"Recall:\", recall_score(y_test, y_pred))\n",
    "print(\"F1:\", f1_score(y_test, y_pred))\n",
    "\n",
    "# 3) SMOTEENN\n",
    "smote_enn = SMOTEENN(sampling_strategy=0.1, random_state=42)\n",
    "X_sme, y_sme = smote_enn.fit_resample(X_train, y_train)\n",
    "rf.fit(X_sme, y_sme)\n",
    "y_pred = rf.predict(X_test)\n",
    "print(\"\\n==== SMOTEENN ====\")\n",
    "print(\"Accuracy:\", accuracy_score(y_test, y_pred))\n",
    "print(\"Precision:\", precision_score(y_test, y_pred))\n",
    "print(\"Recall:\", recall_score(y_test, y_pred))\n",
    "print(\"F1:\", f1_score(y_test, y_pred))"
   ]
  },
  {
   "cell_type": "code",
   "execution_count": 132,
   "id": "751fc31a",
   "metadata": {},
   "outputs": [],
   "source": [
    "# 3) SMOTEENN\n",
    "smote_enn = SMOTEENN(sampling_strategy=0.1, random_state=42)\n",
    "X_smenn, y_smenn = smote_enn.fit_resample(X_train, y_train)"
   ]
  },
  {
   "cell_type": "code",
   "execution_count": 133,
   "id": "a98aa455",
   "metadata": {},
   "outputs": [
    {
     "name": "stdout",
     "output_type": "stream",
     "text": [
      "XGB results : \n",
      "\n",
      "accuracy_score is : 0.9995418179254926 \n",
      "precision_score is : 0.9156626506024096\n",
      "recall_score is : 0.8\n",
      "f1_score is : 0.8539325842696629\n",
      "best threshold for max f1_score : \n",
      "\n",
      "best Threshold: 0.93898463\n",
      "Precision (custom threshold): 0.9736842105263158\n",
      "Recall (custom threshold): 0.7789473684210526\n",
      "F1-score (custom threshold): 0.8654970760233918\n",
      "best threshold for max recall : \n",
      "\n",
      "best Threshold: 0.096558236\n",
      "Precision (custom threshold): 0.8\n",
      "Recall (custom threshold): 0.8\n",
      "F1-score (custom threshold): 0.8\n"
     ]
    }
   ],
   "source": [
    "xgb_model = XGBClassifier(scale_pos_weight=14, random_state=42)\n",
    "xgb_model.fit(X_smenn, y_smenn)\n",
    "y_pred = xgb_model.predict(X_test)\n",
    "y_proba = xgb_model.predict_proba(X_test)\n",
    "print(\"XGB results : \\n\")\n",
    "print(f\"accuracy_score is : {accuracy_score(y_test, y_pred)} \")\n",
    "print(f\"precision_score is : {precision_score(y_test, y_pred)}\")\n",
    "print(f\"recall_score is : {recall_score(y_test, y_pred)}\")\n",
    "print(f\"f1_score is : {f1_score(y_test, y_pred)}\")\n",
    "\n",
    "precisions, recalls, thresholds = precision_recall_curve(y_test, y_proba[:,1])\n",
    "\n",
    "print(\"best threshold for max f1_score : \\n\")\n",
    "\n",
    "f1_scores = 2 * (precisions * recalls) / (precisions + recalls)\n",
    "\n",
    "best_threshold = thresholds[f1_scores.argmax()]\n",
    "print(\"best Threshold:\", best_threshold)\n",
    "y_pred_custom = (y_proba[:,1] >= best_threshold).astype(int)\n",
    "print(f\"Precision (custom threshold): {precision_score(y_test, y_pred_custom)}\")\n",
    "print(f\"Recall (custom threshold): {recall_score(y_test, y_pred_custom)}\")\n",
    "print(f\"F1-score (custom threshold): {f1_score(y_test, y_pred_custom)}\")\n",
    "\n",
    "print(\"best threshold for max recall : \\n\")\n",
    "min_precision = .8\n",
    "valid_idx = np.where(precisions[:-1] >= min_precision)[0]\n",
    "best_threshold = thresholds[valid_idx][recalls[valid_idx].argmax()]\n",
    "\n",
    "print(\"best Threshold:\", best_threshold)\n",
    "y_pred_custom = (y_proba[:,1] >= best_threshold).astype(int)\n",
    "print(f\"Precision (custom threshold): {precision_score(y_test, y_pred_custom)}\")\n",
    "print(f\"Recall (custom threshold): {recall_score(y_test, y_pred_custom)}\")\n",
    "print(f\"F1-score (custom threshold): {f1_score(y_test, y_pred_custom)}\")"
   ]
  },
  {
   "cell_type": "code",
   "execution_count": 134,
   "id": "ffa4d650",
   "metadata": {},
   "outputs": [
    {
     "name": "stdout",
     "output_type": "stream",
     "text": [
      "accuracy_score is : 0.9994713283755683 \n",
      "precision_score is : 0.9012345679012346\n",
      "recall_score is : 0.7684210526315789\n",
      "f1_score is : 0.8295454545454546\n",
      "The ROC score is : 0.9564948451692682\n",
      "******************************\n",
      "best threshold for max f1_score : \n",
      "\n",
      "best Threshold: 0.61\n",
      "Precision (custom threshold): 0.9240506329113924\n",
      "Recall (custom threshold): 0.7684210526315789\n",
      "F1-score (custom threshold): 0.8390804597701149\n",
      "best threshold for max recall : \n",
      "\n",
      "best Threshold: 0.565\n",
      "Precision (custom threshold): 0.9012345679012346\n",
      "Recall (custom threshold): 0.7684210526315789\n",
      "F1-score (custom threshold): 0.8295454545454546\n"
     ]
    }
   ],
   "source": [
    "random_forest = RandomForestClassifier(n_estimators = 200 , random_state = 42 , n_jobs = -1)\n",
    "random_forest.fit(X_smenn , y_smenn)\n",
    "y_pred = random_forest.predict(X_test)\n",
    "y_proba = random_forest.predict_proba(X_test)\n",
    "print(f\"accuracy_score is : {accuracy_score(y_test, y_pred)} \")\n",
    "print(f\"precision_score is : {precision_score(y_test, y_pred)}\")\n",
    "print(f\"recall_score is : {recall_score(y_test, y_pred)}\")\n",
    "print(f\"f1_score is : {f1_score(y_test, y_pred)}\")\n",
    "print(f\"The ROC score is : {roc_auc_score(y_test , y_proba[:,1])}\")\n",
    "\n",
    "print(\"*\" * 30)\n",
    "\n",
    "precisions, recalls, thresholds = precision_recall_curve(y_test, y_proba[:,1])\n",
    "\n",
    "print(\"best threshold for max f1_score : \\n\")\n",
    "\n",
    "\n",
    "f1_scores = 2 * (precisions * recalls) / (precisions + recalls)\n",
    "\n",
    "\n",
    "best_threshold = thresholds[f1_scores.argmax()]\n",
    "print(\"best Threshold:\", best_threshold)\n",
    "y_pred_custom = (y_proba[:,1] >= best_threshold).astype(int)\n",
    "print(f\"Precision (custom threshold): {precision_score(y_test, y_pred_custom)}\")\n",
    "print(f\"Recall (custom threshold): {recall_score(y_test, y_pred_custom)}\")\n",
    "print(f\"F1-score (custom threshold): {f1_score(y_test, y_pred_custom)}\")\n",
    "\n",
    "print(\"best threshold for max recall : \\n\")\n",
    "min_precision = .9\n",
    "valid_idx = np.where(precisions[:-1] >= min_precision)[0]\n",
    "best_threshold = thresholds[valid_idx][recalls[valid_idx].argmax()]\n",
    "\n",
    "print(\"best Threshold:\", best_threshold)\n",
    "y_pred_custom = (y_proba[:,1] >= best_threshold).astype(int)\n",
    "print(f\"Precision (custom threshold): {precision_score(y_test, y_pred_custom)}\")\n",
    "print(f\"Recall (custom threshold): {recall_score(y_test, y_pred_custom)}\")\n",
    "print(f\"F1-score (custom threshold): {f1_score(y_test, y_pred_custom)}\")"
   ]
  },
  {
   "cell_type": "code",
   "execution_count": 147,
   "id": "94d94491",
   "metadata": {},
   "outputs": [
    {
     "name": "stdout",
     "output_type": "stream",
     "text": [
      "accuracy_score is : 0.9995065731505305 \n",
      "precision_score is : 0.9855072463768116\n",
      "recall_score is : 0.7157894736842105\n",
      "f1_score is : 0.8292682926829268\n",
      "The ROC score is : 0.9576765031322901\n",
      "******************************\n",
      "best threshold for max f1_score : \n",
      "\n",
      "best Threshold: 0.288\n",
      "Precision (custom threshold): 0.961038961038961\n",
      "Recall (custom threshold): 0.7789473684210526\n",
      "F1-score (custom threshold): 0.8604651162790697\n",
      "best threshold for max recall : \n",
      "\n",
      "best Threshold: 0.196\n",
      "Precision (custom threshold): 0.9024390243902439\n",
      "Recall (custom threshold): 0.7789473684210526\n",
      "F1-score (custom threshold): 0.8361581920903954\n"
     ]
    }
   ],
   "source": [
    "from sklearn.ensemble import ExtraTreesClassifier\n",
    "from sklearn.metrics import accuracy_score, precision_score, recall_score, f1_score, precision_recall_curve\n",
    "import numpy as np\n",
    "\n",
    "model_extra = ExtraTreesClassifier(n_estimators = 500 , class_weight = 'balanced' , random_state = 42)\n",
    "model_extra.fit(X_train , y_train)\n",
    "\n",
    "y_pred = model_extra.predict(X_test)\n",
    "y_proba = model_extra.predict_proba(X_test)\n",
    "\n",
    "print(f\"accuracy_score is : {accuracy_score(y_test, y_pred)} \")\n",
    "print(f\"precision_score is : {precision_score(y_test, y_pred)}\")\n",
    "print(f\"recall_score is : {recall_score(y_test, y_pred)}\")\n",
    "print(f\"f1_score is : {f1_score(y_test, y_pred)}\")\n",
    "print(f\"The ROC score is : {roc_auc_score(y_test , y_proba[:,1])}\")\n",
    "\n",
    "print(\"*\" * 30)\n",
    "\n",
    "precisions, recalls, thresholds = precision_recall_curve(y_test, y_proba[:,1])\n",
    "\n",
    "print(\"best threshold for max f1_score : \\n\")\n",
    "\n",
    "\n",
    "f1_scores = 2 * (precisions * recalls) / (precisions + recalls)\n",
    "\n",
    "\n",
    "best_threshold = thresholds[f1_scores.argmax()]\n",
    "print(\"best Threshold:\", best_threshold)\n",
    "y_pred_custom = (y_proba[:,1] >= best_threshold).astype(int)\n",
    "print(f\"Precision (custom threshold): {precision_score(y_test, y_pred_custom)}\")\n",
    "print(f\"Recall (custom threshold): {recall_score(y_test, y_pred_custom)}\")\n",
    "print(f\"F1-score (custom threshold): {f1_score(y_test, y_pred_custom)}\")\n",
    "\n",
    "print(\"best threshold for max recall : \\n\")\n",
    "min_precision = .9\n",
    "valid_idx = np.where(precisions[:-1] >= min_precision)[0]\n",
    "best_threshold = thresholds[valid_idx][recalls[valid_idx].argmax()]\n",
    "\n",
    "print(\"best Threshold:\", best_threshold)\n",
    "y_pred_custom = (y_proba[:,1] >= best_threshold).astype(int)\n",
    "print(f\"Precision (custom threshold): {precision_score(y_test, y_pred_custom)}\")\n",
    "print(f\"Recall (custom threshold): {recall_score(y_test, y_pred_custom)}\")\n",
    "print(f\"F1-score (custom threshold): {f1_score(y_test, y_pred_custom)}\")"
   ]
  },
  {
   "cell_type": "code",
   "execution_count": 148,
   "id": "51c6ae06",
   "metadata": {},
   "outputs": [
    {
     "name": "stdout",
     "output_type": "stream",
     "text": [
      "accuracy_score is : 0.9995418179254926 \n",
      "precision_score is : 0.9367088607594937\n",
      "recall_score is : 0.7789473684210526\n",
      "f1_score is : 0.8505747126436781\n",
      "The ROC score is : 0.9690173165522232\n",
      "******************************\n",
      "best threshold for max f1_score : \n",
      "\n",
      "best Threshold: 0.618\n",
      "Precision (custom threshold): 0.961038961038961\n",
      "Recall (custom threshold): 0.7789473684210526\n",
      "F1-score (custom threshold): 0.8604651162790697\n",
      "best threshold for max recall : \n",
      "\n",
      "best Threshold: 0.366\n",
      "Precision (custom threshold): 0.9036144578313253\n",
      "Recall (custom threshold): 0.7894736842105263\n",
      "F1-score (custom threshold): 0.8426966292134831\n"
     ]
    }
   ],
   "source": [
    "from sklearn.ensemble import ExtraTreesClassifier\n",
    "from sklearn.metrics import accuracy_score, precision_score, recall_score, f1_score, precision_recall_curve\n",
    "import numpy as np\n",
    "\n",
    "model_extra = ExtraTreesClassifier(n_estimators = 500 , class_weight = 'balanced' , random_state = 42)\n",
    "model_extra.fit(X_sm_tomek , y_sm_tomek)\n",
    "\n",
    "y_pred = model_extra.predict(X_test)\n",
    "y_proba = model_extra.predict_proba(X_test)\n",
    "\n",
    "print(f\"accuracy_score is : {accuracy_score(y_test, y_pred)} \")\n",
    "print(f\"precision_score is : {precision_score(y_test, y_pred)}\")\n",
    "print(f\"recall_score is : {recall_score(y_test, y_pred)}\")\n",
    "print(f\"f1_score is : {f1_score(y_test, y_pred)}\")\n",
    "print(f\"The ROC score is : {roc_auc_score(y_test , y_proba[:,1])}\")\n",
    "\n",
    "print(\"*\" * 30)\n",
    "\n",
    "precisions, recalls, thresholds = precision_recall_curve(y_test, y_proba[:,1])\n",
    "\n",
    "print(\"best threshold for max f1_score : \\n\")\n",
    "\n",
    "\n",
    "f1_scores = 2 * (precisions * recalls) / (precisions + recalls)\n",
    "\n",
    "\n",
    "best_threshold = thresholds[f1_scores.argmax()]\n",
    "print(\"best Threshold:\", best_threshold)\n",
    "y_pred_custom = (y_proba[:,1] >= best_threshold).astype(int)\n",
    "print(f\"Precision (custom threshold): {precision_score(y_test, y_pred_custom)}\")\n",
    "print(f\"Recall (custom threshold): {recall_score(y_test, y_pred_custom)}\")\n",
    "print(f\"F1-score (custom threshold): {f1_score(y_test, y_pred_custom)}\")\n",
    "\n",
    "print(\"best threshold for max recall : \\n\")\n",
    "min_precision = .9\n",
    "valid_idx = np.where(precisions[:-1] >= min_precision)[0]\n",
    "best_threshold = thresholds[valid_idx][recalls[valid_idx].argmax()]\n",
    "\n",
    "print(\"best Threshold:\", best_threshold)\n",
    "y_pred_custom = (y_proba[:,1] >= best_threshold).astype(int)\n",
    "print(f\"Precision (custom threshold): {precision_score(y_test, y_pred_custom)}\")\n",
    "print(f\"Recall (custom threshold): {recall_score(y_test, y_pred_custom)}\")\n",
    "print(f\"F1-score (custom threshold): {f1_score(y_test, y_pred_custom)}\")"
   ]
  },
  {
   "cell_type": "code",
   "execution_count": null,
   "id": "ee7f71a7",
   "metadata": {},
   "outputs": [],
   "source": [
    "from sklearn.preprocessing import StandardScaler\n",
    "scaler = StandardScaler()\n",
    "X_train_std = pd.DataFrame(scaler.fit_transform(X_sm_tomek))\n",
    "X_test_std = pd.DataFrame(scaler.transform(X_test))"
   ]
  },
  {
   "cell_type": "code",
   "execution_count": 159,
   "id": "fd17d3cb",
   "metadata": {},
   "outputs": [
    {
     "name": "stdout",
     "output_type": "stream",
     "text": [
      "XGB results : \n",
      "\n",
      "accuracy_score is : 0.9995065731505305 \n",
      "precision_score is : 0.9135802469135802\n",
      "recall_score is : 0.7789473684210526\n",
      "f1_score is : 0.8409090909090909\n",
      "best threshold for max f1_score : \n",
      "\n",
      "best Threshold: 0.56\n",
      "Precision (custom threshold): 0.9135802469135802\n",
      "Recall (custom threshold): 0.7789473684210526\n",
      "F1-score (custom threshold): 0.8409090909090909\n",
      "best threshold for max recall : \n",
      "\n",
      "best Threshold: 0.255\n",
      "Precision (custom threshold): 0.8020833333333334\n",
      "Recall (custom threshold): 0.8105263157894737\n",
      "F1-score (custom threshold): 0.806282722513089\n"
     ]
    }
   ],
   "source": [
    "random_forest = RandomForestClassifier(n_estimators = 200 , random_state = 42 , n_jobs = -1)\n",
    "random_forest.fit(X_train_std, y_sm_tomek)\n",
    "y_pred = random_forest.predict(X_test_std)\n",
    "y_proba = random_forest.predict_proba(X_test_std)\n",
    "print(\"XGB results : \\n\")\n",
    "print(f\"accuracy_score is : {accuracy_score(y_test, y_pred)} \")\n",
    "print(f\"precision_score is : {precision_score(y_test, y_pred)}\")\n",
    "print(f\"recall_score is : {recall_score(y_test, y_pred)}\")\n",
    "print(f\"f1_score is : {f1_score(y_test, y_pred)}\")\n",
    "\n",
    "precisions, recalls, thresholds = precision_recall_curve(y_test, y_proba[:,1])\n",
    "\n",
    "print(\"best threshold for max f1_score : \\n\")\n",
    "\n",
    "f1_scores = 2 * (precisions * recalls) / (precisions + recalls)\n",
    "\n",
    "best_threshold = thresholds[f1_scores.argmax()]\n",
    "print(\"best Threshold:\", best_threshold)\n",
    "y_pred_custom = (y_proba[:,1] >= best_threshold).astype(int)\n",
    "print(f\"Precision (custom threshold): {precision_score(y_test, y_pred_custom)}\")\n",
    "print(f\"Recall (custom threshold): {recall_score(y_test, y_pred_custom)}\")\n",
    "print(f\"F1-score (custom threshold): {f1_score(y_test, y_pred_custom)}\")\n",
    "\n",
    "print(\"best threshold for max recall : \\n\")\n",
    "min_precision = .8\n",
    "valid_idx = np.where(precisions[:-1] >= min_precision)[0]\n",
    "best_threshold = thresholds[valid_idx][recalls[valid_idx].argmax()]\n",
    "\n",
    "print(\"best Threshold:\", best_threshold)\n",
    "y_pred_custom = (y_proba[:,1] >= best_threshold).astype(int)\n",
    "print(f\"Precision (custom threshold): {precision_score(y_test, y_pred_custom)}\")\n",
    "print(f\"Recall (custom threshold): {recall_score(y_test, y_pred_custom)}\")\n",
    "print(f\"F1-score (custom threshold): {f1_score(y_test, y_pred_custom)}\")"
   ]
  },
  {
   "cell_type": "markdown",
   "id": "1fd47242",
   "metadata": {},
   "source": [
    "# BEST RESULTS OF UNDERSAMPLING:\n",
    "\n",
    "### XGB results : \n",
    "\n",
    "- accuracy_score is : 0.9994537059880872 \n",
    "- precision_score is : 0.8636363636363636\n",
    "- recall_score is : 0.8\n",
    "- f1_score is : 0.8306010928961749\n",
    "\n",
    "### best threshold for max f1_score : \n",
    "\n",
    "- best Threshold: 0.9573521\n",
    "- Precision (custom threshold): 0.9620253164556962\n",
    "- Recall (custom threshold): 0.8\n",
    "- F1-score (custom threshold): 0.8735632183908046\n",
    "\n",
    "### best threshold for max recall : \n",
    "\n",
    "- best Threshold: 0.7340847\n",
    "- Precision (custom threshold): 0.9047619047619048\n",
    "- Recall (custom threshold): 0.8\n",
    "- F1-score (custom threshold): 0.8491620111731844"
   ]
  }
 ],
 "metadata": {
  "kernelspec": {
   "display_name": "Python 3",
   "language": "python",
   "name": "python3"
  },
  "language_info": {
   "codemirror_mode": {
    "name": "ipython",
    "version": 3
   },
   "file_extension": ".py",
   "mimetype": "text/x-python",
   "name": "python",
   "nbconvert_exporter": "python",
   "pygments_lexer": "ipython3",
   "version": "3.13.7"
  }
 },
 "nbformat": 4,
 "nbformat_minor": 5
}
